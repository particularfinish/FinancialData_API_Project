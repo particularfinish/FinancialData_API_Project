{
 "cells": [
  {
   "cell_type": "code",
   "execution_count": 15,
   "metadata": {},
   "outputs": [],
   "source": [
    "# Store the API key as a string - according to PEP8, constants are always named in all upper case\n",
    "API_KEY = 'xxx'"
   ]
  },
  {
   "cell_type": "markdown",
   "metadata": {},
   "source": [
    "Qaundl has a large number of data sources, but, unfortunately, most of them require a Premium subscription. Still, there are also a good number of free datasets."
   ]
  },
  {
   "cell_type": "markdown",
   "metadata": {},
   "source": [
    "For this mini project, we will focus on equities data from the Frankfurt Stock Exhange (FSE), which is available for free. We'll try and analyze the stock prices of a company called Carl Zeiss Meditec, which manufactures tools for eye examinations, as well as medical lasers for laser eye surgery: https://www.zeiss.com/meditec/int/home.html. The company is listed under the stock ticker AFX_X."
   ]
  },
  {
   "cell_type": "markdown",
   "metadata": {},
   "source": [
    "Keep in mind that the JSON responses you will be getting from the API map almost one-to-one to Python's dictionaries. Unfortunately, they can be very nested, so make sure you read up on indexing dictionaries in the documentation provided above."
   ]
  },
  {
   "cell_type": "code",
   "execution_count": 16,
   "metadata": {},
   "outputs": [],
   "source": [
    "# First, import the relevant modules\n",
    "# DO NOT USE PANDAS\n",
    "\n",
    "import requests, json\n"
   ]
  },
  {
   "cell_type": "code",
   "execution_count": 17,
   "metadata": {},
   "outputs": [],
   "source": [
    "# Now, call the Quandl API and pull out a small sample of the data (only one day) to get a glimpse\n",
    "# into the JSON structure that will be returned\n",
    "\n",
    "test_url = 'https://www.quandl.com/api/v3/datasets/FSE/AFX_X.json?start_date=2017-05-11&end_date=2017-05-11&api_key=xxx'\n",
    "\n",
    "r = requests.get(test_url)\n",
    "json_data = r.json()"
   ]
  },
  {
   "cell_type": "code",
   "execution_count": 18,
   "metadata": {},
   "outputs": [
    {
     "data": {
      "text/plain": [
       "dict"
      ]
     },
     "execution_count": 18,
     "metadata": {},
     "output_type": "execute_result"
    }
   ],
   "source": [
    "# Inspect the JSON structure of the object you created, and take note of how nested it is,\n",
    "# as well as the overall structure\n",
    "# First check the data type of the json_data object\n",
    "\n",
    "type(json_data)"
   ]
  },
  {
   "cell_type": "code",
   "execution_count": 19,
   "metadata": {},
   "outputs": [
    {
     "name": "stdout",
     "output_type": "stream",
     "text": [
      "dataset: {'id': 10095370, 'dataset_code': 'AFX_X', 'database_code': 'FSE', 'name': 'Carl Zeiss Meditec (AFX_X)', 'description': 'Stock Prices for Carl Zeiss Meditec (2020-11-02) from the Frankfurt Stock Exchange.<br><br>Trading System: Xetra<br><br>ISIN: DE0005313704', 'refreshed_at': '2020-12-01T14:48:09.907Z', 'newest_available_date': '2020-12-01', 'oldest_available_date': '2000-06-07', 'column_names': ['Date', 'Open', 'High', 'Low', 'Close', 'Change', 'Traded Volume', 'Turnover', 'Last Price of the Day', 'Daily Traded Units', 'Daily Turnover'], 'frequency': 'daily', 'type': 'Time Series', 'premium': False, 'limit': None, 'transform': None, 'column_index': None, 'start_date': '2017-05-11', 'end_date': '2017-05-11', 'data': [['2017-05-11', 43.4, 46.06, 43.25, 45.0, None, 189125.0, 8496322.0, None, None, None]], 'collapse': None, 'order': None, 'database_id': 6129}\n"
     ]
    }
   ],
   "source": [
    "# Print the dict to the console using a for loop\n",
    "\n",
    "for key, value in json_data.items():\n",
    "    print(key + ':', value)"
   ]
  },
  {
   "cell_type": "code",
   "execution_count": 20,
   "metadata": {},
   "outputs": [
    {
     "data": {
      "text/plain": [
       "dict_keys(['dataset'])"
      ]
     },
     "execution_count": 20,
     "metadata": {},
     "output_type": "execute_result"
    }
   ],
   "source": [
    "# Check the keys of the json_data object\n",
    "\n",
    "json_data.keys()"
   ]
  },
  {
   "cell_type": "code",
   "execution_count": 21,
   "metadata": {},
   "outputs": [
    {
     "data": {
      "text/plain": [
       "dict_keys(['id', 'dataset_code', 'database_code', 'name', 'description', 'refreshed_at', 'newest_available_date', 'oldest_available_date', 'column_names', 'frequency', 'type', 'premium', 'limit', 'transform', 'column_index', 'start_date', 'end_date', 'data', 'collapse', 'order', 'database_id'])"
      ]
     },
     "execution_count": 21,
     "metadata": {},
     "output_type": "execute_result"
    }
   ],
   "source": [
    "# Now that you can see all the information is nested in the value of the outermost key, 'dataset',\n",
    "# get a list of the keys of 'dataset'\n",
    "\n",
    "json_data['dataset'].keys()"
   ]
  },
  {
   "cell_type": "code",
   "execution_count": 73,
   "metadata": {},
   "outputs": [
    {
     "name": "stdout",
     "output_type": "stream",
     "text": [
      "['Date', 'Open', 'High', 'Low', 'Close', 'Change', 'Traded Volume', 'Turnover', 'Last Price of the Day', 'Daily Traded Units', 'Daily Turnover']\n",
      "[['2017-05-11', 43.4, 46.06, 43.25, 45.0, None, 189125.0, 8496322.0, None, None, None]]\n"
     ]
    }
   ],
   "source": [
    "# The colunn names of the data we are interested in are found in a list with the key 'column_names', which is nested\n",
    "# under json_data['dataset']\n",
    "#col_names = [ name for player in json_data.values() for name in player.keys() ]\n",
    "\n",
    "col_names = json_data['dataset']['column_names']\n",
    "print(col_names)\n",
    "\n",
    "data = json_data['dataset']['data']\n",
    "print(data)"
   ]
  },
  {
   "cell_type": "markdown",
   "metadata": {},
   "source": [
    "These are the tasks for this mini project:\n",
    "\n",
    "1. Collect data from the Franfurt Stock Exchange, for the ticker AFX_X, for the whole year 2017 (keep in mind that the date format is YYYY-MM-DD).\n",
    "2. Convert the returned JSON object into a Python dictionary.\n",
    "3. Calculate what the highest and lowest opening prices were for the stock in this period.\n",
    "4. What was the largest change in any one day (based on High and Low price)?\n",
    "5. What was the largest change between any two days (based on Closing Price)?\n",
    "6. What was the average daily trading volume during this year?\n",
    "7. (Optional) What was the median trading volume during this year. (Note: you may need to implement your own function for calculating the median.)"
   ]
  },
  {
   "cell_type": "code",
   "execution_count": 49,
   "metadata": {},
   "outputs": [
    {
     "name": "stdout",
     "output_type": "stream",
     "text": [
      "dict_keys(['id', 'dataset_code', 'database_code', 'name', 'description', 'refreshed_at', 'newest_available_date', 'oldest_available_date', 'column_names', 'frequency', 'type', 'premium', 'limit', 'transform', 'column_index', 'start_date', 'end_date', 'data', 'collapse', 'order', 'database_id'])\n"
     ]
    }
   ],
   "source": [
    "project_url = 'https://www.quandl.com/api/v3/datasets/FSE/AFX_X.json?start_date=2017-01-01&end_date=2017-12-31&api_key=xxx'\n",
    "rq = requests.get(project_url)\n",
    "json_proj_data = rq.json()\n",
    "\n",
    "with open('mydata.json', 'w') as f:\n",
    "    json.dump(json_proj_data, f)\n",
    "\n",
    "print(json_proj_data['dataset'].keys())"
   ]
  },
  {
   "cell_type": "code",
   "execution_count": 30,
   "metadata": {},
   "outputs": [
    {
     "name": "stdout",
     "output_type": "stream",
     "text": [
      "The highest opening price is $53.11.\n",
      "The lowest opening price is $34.00.\n"
     ]
    }
   ],
   "source": [
    "# Calculate what the highest and lowest opening prices were for the stock in this period.\n",
    "\n",
    "highest_price = lowest_price = json_proj_data['dataset']['data'][0][1]\n",
    "\n",
    "for day in json_proj_data['dataset']['data']:\n",
    "    if type(day[1]) == float:\n",
    "        day_price_open = day[1]\n",
    "    \n",
    "        if day_price_open > highest_price:\n",
    "            highest_price = day_price_open\n",
    "    \n",
    "        if day_price_open < lowest_price:\n",
    "            lowest_price = day_price_open\n",
    "        \n",
    "print(\"The highest opening price is \" + \"$\" + '{:2,.2f}'.format(highest_price) + \".\")\n",
    "print(\"The lowest opening price is \" + \"$\" + '{:2,.2f}'.format(lowest_price) + \".\")"
   ]
  },
  {
   "cell_type": "code",
   "execution_count": 36,
   "metadata": {},
   "outputs": [
    {
     "name": "stdout",
     "output_type": "stream",
     "text": [
      "The largest change in any one day (based on High and Low price) is $2.81.\n"
     ]
    }
   ],
   "source": [
    "# What was the largest change in any one day (based on High and Low price)?\n",
    "\n",
    "largest_change = change = json_proj_data['dataset']['data'][0][2] - json_proj_data['dataset']['data'][0][3]\n",
    "for day in json_proj_data['dataset']['data']:\n",
    "    if type(day[2]) == float and type(day[3]) == float:\n",
    "        change = abs(day[2] - day[3])\n",
    "    if change > largest_change:\n",
    "        largest_change = change\n",
    "        \n",
    "print(\"The largest change in any one day (based on High and Low price) is \" + \"$\" + '{:2,.2f}'.format(largest_change) + \".\")"
   ]
  },
  {
   "cell_type": "code",
   "execution_count": 66,
   "metadata": {},
   "outputs": [
    {
     "name": "stdout",
     "output_type": "stream",
     "text": [
      "The largest change between any two (consecutive) days in 2017 (based on Closing Price) was $2.56.\n"
     ]
    }
   ],
   "source": [
    "# What was the largest change between any two consecutive days (based on Closing Price)?\n",
    "day1 = json_proj_data['dataset']['data'][0][4]\n",
    "day2 = json_proj_data['dataset']['data'][1][4]\n",
    "two_day_change = abs(day1 - day2)\n",
    "\n",
    "for day in json_proj_data['dataset']['data'][2:]:\n",
    "    if type(day[4]) == float:\n",
    "        day2 = day[4]\n",
    "    day_change = abs(day2 - day1)\n",
    "    \n",
    "    if day_change > two_day_change:\n",
    "        two_day_change = day_change\n",
    "    day1 = day2\n",
    "    \n",
    "\n",
    "\n",
    "print(\"The largest change between any two (consecutive) days in 2017 (based on Closing Price) was \" + \"$\" + '{:2,.2f}'.format(two_day_change) + \".\")\n"
   ]
  },
  {
   "cell_type": "code",
   "execution_count": 74,
   "metadata": {},
   "outputs": [
    {
     "name": "stdout",
     "output_type": "stream",
     "text": [
      "The largest change between *any* two days in 2017 (based on Closing Price) was $19.03.\n"
     ]
    }
   ],
   "source": [
    "# What was the largest change between *any* two days (based on Closing Price)?\n",
    "\n",
    "highest_closing_price = lowest_closing_price = json_proj_data['dataset']['data'][0][4]\n",
    "\n",
    "for day in json_proj_data['dataset']['data']:\n",
    "    if type(day[4]) == float:\n",
    "        day_price_close = day[4]\n",
    "    \n",
    "        if day_price_close > highest_closing_price:\n",
    "            highest_closing_price = day_price_close\n",
    "    \n",
    "        if day_price_close < lowest_closing_price:\n",
    "            lowest_closing_price = day_price_close\n",
    "        \n",
    "abs_diff_closing_price = abs(highest_closing_price - lowest_closing_price)\n",
    "\n",
    "print(\"The largest change between *any* two days in 2017 (based on Closing Price) was \" + \"$\" + '{:2,.2f}'.format(abs_diff_closing_price) + \".\")\n"
   ]
  },
  {
   "cell_type": "code",
   "execution_count": 76,
   "metadata": {},
   "outputs": [
    {
     "name": "stdout",
     "output_type": "stream",
     "text": [
      "The average daily trading volume in 2017 was 89,124.34.\n"
     ]
    }
   ],
   "source": [
    "# What was the average daily trading volume during this year?\n",
    "# ('Traded Volume' is index 6)\n",
    "\n",
    "traded_volume = []\n",
    "\n",
    "for day in json_proj_data['dataset']['data']:\n",
    "    if type(day[6]) == float:\n",
    "        traded_volume.append(day[6])\n",
    "\n",
    "mean_traded_volume = sum(traded_volume) / len(traded_volume)\n",
    "\n",
    "print(\"The average daily trading volume in 2017 was \" + '{:2,.2f}'.format(mean_traded_volume) + \".\")\n"
   ]
  },
  {
   "cell_type": "code",
   "execution_count": 78,
   "metadata": {},
   "outputs": [
    {
     "name": "stdout",
     "output_type": "stream",
     "text": [
      "The median trading volume during 2017 was 76,286.\n"
     ]
    }
   ],
   "source": [
    "# What was the median trading volume during this year?\n",
    "\n",
    "def median(list):\n",
    "    list.sort()\n",
    "    l = len(list)\n",
    "    \n",
    "    mid = (l-1)//2\n",
    "    \n",
    "    if(l%2==0):\n",
    "        return (list[mid] + list[mid+1])/2\n",
    "    else:\n",
    "        return list[mid]\n",
    "        \n",
    "print(\"The median trading volume during 2017 was \" + '{:2,.0f}'.format(median(traded_volume)) + \".\")\n",
    "\n"
   ]
  },
  {
   "cell_type": "code",
   "execution_count": null,
   "metadata": {},
   "outputs": [],
   "source": []
  }
 ],
 "metadata": {
  "kernelspec": {
   "display_name": "Python 3",
   "language": "python",
   "name": "python3"
  },
  "language_info": {
   "codemirror_mode": {
    "name": "ipython",
    "version": 3
   },
   "file_extension": ".py",
   "mimetype": "text/x-python",
   "name": "python",
   "nbconvert_exporter": "python",
   "pygments_lexer": "ipython3",
   "version": "3.8.8"
  }
 },
 "nbformat": 4,
 "nbformat_minor": 2
}
